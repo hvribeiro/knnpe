{
 "cells": [
  {
   "cell_type": "code",
   "execution_count": 1,
   "id": "d4140d0e",
   "metadata": {
    "ExecuteTime": {
     "end_time": "2024-04-24T18:49:26.888842Z",
     "start_time": "2024-04-24T18:49:26.657000Z"
    }
   },
   "outputs": [
    {
     "name": "stdout",
     "output_type": "stream",
     "text": [
      "Successfully loaded rwalk library from: /home/hvribeiro/Dropbox/gitprojects/works/knnpe/knnpe/rwalk\n"
     ]
    }
   ],
   "source": [
    "import numpy as np\n",
    "from knnpe import knn_permutation_entropy"
   ]
  },
  {
   "cell_type": "code",
   "execution_count": 2,
   "id": "12243c9b",
   "metadata": {
    "ExecuteTime": {
     "end_time": "2024-04-24T18:49:26.954247Z",
     "start_time": "2024-04-24T18:49:26.889834Z"
    }
   },
   "outputs": [
    {
     "data": {
      "text/plain": [
       "0.9996784554176287"
      ]
     },
     "execution_count": 2,
     "metadata": {},
     "output_type": "execute_result"
    }
   ],
   "source": [
    "data = np.random.normal(size=(100,3))\n",
    "knn_permutation_entropy(data)"
   ]
  },
  {
   "cell_type": "code",
   "execution_count": 3,
   "id": "21c7109c",
   "metadata": {
    "ExecuteTime": {
     "end_time": "2024-04-24T18:49:27.015201Z",
     "start_time": "2024-04-24T18:49:26.955285Z"
    }
   },
   "outputs": [
    {
     "data": {
      "text/plain": [
       "0.9168051201001307"
      ]
     },
     "execution_count": 3,
     "metadata": {},
     "output_type": "execute_result"
    }
   ],
   "source": [
    "data_coordinates = np.random.randint(0,1000,size=(100,3))\n",
    "data_values = np.sum(data_coordinates**2,axis=1)\n",
    "data = np.hstack([data_coordinates,data_values[:,None]])\n",
    "\n",
    "knn_permutation_entropy(data,n_neighbors=1)"
   ]
  },
  {
   "cell_type": "code",
   "execution_count": null,
   "id": "bfbdd6fc",
   "metadata": {},
   "outputs": [],
   "source": []
  }
 ],
 "metadata": {
  "kernelspec": {
   "display_name": "Python 3 (ipykernel)",
   "language": "python",
   "name": "python3"
  },
  "language_info": {
   "codemirror_mode": {
    "name": "ipython",
    "version": 3
   },
   "file_extension": ".py",
   "mimetype": "text/x-python",
   "name": "python",
   "nbconvert_exporter": "python",
   "pygments_lexer": "ipython3",
   "version": "3.10.12"
  }
 },
 "nbformat": 4,
 "nbformat_minor": 5
}
