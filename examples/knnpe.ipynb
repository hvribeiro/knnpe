{
 "cells": [
  {
   "cell_type": "code",
   "execution_count": 1,
   "id": "d4140d0e",
   "metadata": {
    "ExecuteTime": {
     "end_time": "2024-03-19T13:18:06.516965Z",
     "start_time": "2024-03-19T13:18:06.511589Z"
    }
   },
   "outputs": [],
   "source": [
    "import numpy as np\n",
    "from knnpe import knn_permutation_entropy"
   ]
  },
  {
   "cell_type": "code",
   "execution_count": 2,
   "id": "12243c9b",
   "metadata": {
    "ExecuteTime": {
     "end_time": "2024-03-19T13:18:18.870524Z",
     "start_time": "2024-03-19T13:18:18.539697Z"
    }
   },
   "outputs": [
    {
     "data": {
      "text/plain": [
       "0.9999265414073929"
      ]
     },
     "execution_count": 2,
     "metadata": {},
     "output_type": "execute_result"
    }
   ],
   "source": [
    "data = np.random.normal(size=(100,3))\n",
    "knn_permutation_entropy(data)"
   ]
  },
  {
   "cell_type": "code",
   "execution_count": 7,
   "id": "21c7109c",
   "metadata": {
    "ExecuteTime": {
     "end_time": "2024-03-19T13:18:52.488401Z",
     "start_time": "2024-03-19T13:18:52.326250Z"
    }
   },
   "outputs": [
    {
     "data": {
      "text/plain": [
       "0.8789588563104602"
      ]
     },
     "execution_count": 7,
     "metadata": {},
     "output_type": "execute_result"
    }
   ],
   "source": [
    "data_coordinates = np.random.randint(0,1000,size=(100,3))\n",
    "data_values = np.sum(data_coordinates**2,axis=1)\n",
    "data = np.hstack([data_coordinates,data_values[:,None]])\n",
    "\n",
    "knn_permutation_entropy(data,n_neighbors=1)"
   ]
  },
  {
   "cell_type": "code",
   "execution_count": null,
   "id": "2d604330",
   "metadata": {},
   "outputs": [],
   "source": []
  }
 ],
 "metadata": {
  "kernelspec": {
   "display_name": "Python 3 (ipykernel)",
   "language": "python",
   "name": "python3"
  },
  "language_info": {
   "codemirror_mode": {
    "name": "ipython",
    "version": 3
   },
   "file_extension": ".py",
   "mimetype": "text/x-python",
   "name": "python",
   "nbconvert_exporter": "python",
   "pygments_lexer": "ipython3",
   "version": "3.10.12"
  }
 },
 "nbformat": 4,
 "nbformat_minor": 5
}
